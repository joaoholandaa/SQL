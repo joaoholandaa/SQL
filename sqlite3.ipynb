{
 "cells": [
  {
   "cell_type": "markdown",
   "metadata": {},
   "source": [
    "## **Python com SQLite3**"
   ]
  },
  {
   "cell_type": "markdown",
   "metadata": {},
   "source": [
    "### **O que é SQL?** <br>\n",
    "1. SQL significa Linguagem de Consulta Estruturada <br>\n",
    "2. SQL permite acessar e manipular bancos de dados\n",
    "3. SQL tornou-se um padrão do American National Standards Institute (ANSI) em 1986, e da International Organization for Standardization (ISO) em 1987."
   ]
  },
  {
   "cell_type": "markdown",
   "metadata": {},
   "source": [
    "### **O que é o SQLite?** <br>\n",
    "SQLite é um banco de dados SQL baseado em arquivo independente. O SQLite vem junto com o Python e pode ser usado em qualquer um dos seus aplicativos Python sem precisar instalar nenhum software adicional.\n"
   ]
  },
  {
   "cell_type": "code",
   "execution_count": 1,
   "metadata": {},
   "outputs": [],
   "source": [
    "# Biblioteca\n",
    "import sqlite3"
   ]
  },
  {
   "cell_type": "code",
   "execution_count": 2,
   "metadata": {},
   "outputs": [],
   "source": [
    "# Criar um banco de dados\n",
    "conexao = sqlite3.connect('database')"
   ]
  },
  {
   "cell_type": "code",
   "execution_count": 3,
   "metadata": {},
   "outputs": [],
   "source": [
    "# Apontar para o banco\n",
    "cursor = conexao.cursor()"
   ]
  },
  {
   "cell_type": "markdown",
   "metadata": {},
   "source": [
    "### **1.-Create Table** <br>\n",
    "CREATE TABLE table_name ( column1 datatype, column2 datatype, column3 datatype, .... )\n",
    "\n",
    "Os parâmetros de coluna especificam os nomes das colunas da tabela.\n",
    "\n",
    "O parâmetro datatype especifica o tipo de dados que a coluna pode conter (por exemplo, varchar, integer, date, etc.)."
   ]
  },
  {
   "cell_type": "code",
   "execution_count": 4,
   "metadata": {},
   "outputs": [],
   "source": [
    "# Criar uma tabela\n",
    "cursor.execute(\n",
    "    'CREATE TABLE Minha_Tabela (Data text, Nome text, Idade real)'\n",
    ")\n",
    "\n",
    "# Fazer um commit\n",
    "conexao.commit()"
   ]
  },
  {
   "cell_type": "markdown",
   "metadata": {},
   "source": [
    "### **2.-Insert Into** <br>\n",
    "A instrução INSERT INTO é usada para inserir novos registros em uma tabela.\n",
    "\n",
    "    1. Especifique os nomes das colunas e os valores a serem inseridos:\n",
    "\n",
    "INSERT INTO table_name (column1, column2, column3, ...)"
   ]
  },
  {
   "cell_type": "code",
   "execution_count": 5,
   "metadata": {},
   "outputs": [
    {
     "data": {
      "text/plain": [
       "<sqlite3.Cursor at 0x26a799e4140>"
      ]
     },
     "execution_count": 5,
     "metadata": {},
     "output_type": "execute_result"
    }
   ],
   "source": [
    "# Inserindo valores\n",
    "cursor.execute('INSERT INTO Minha_Tabela VALUES (\"01/01/2021\", \"João\", \"22\")')"
   ]
  },
  {
   "cell_type": "code",
   "execution_count": 6,
   "metadata": {},
   "outputs": [
    {
     "data": {
      "text/plain": [
       "<sqlite3.Cursor at 0x26a799e4140>"
      ]
     },
     "execution_count": 6,
     "metadata": {},
     "output_type": "execute_result"
    }
   ],
   "source": [
    "cursor.execute('INSERT INTO Minha_Tabela VALUES (\"05/01/2021\", \"Pedro\", \"22\")')"
   ]
  },
  {
   "cell_type": "code",
   "execution_count": 7,
   "metadata": {},
   "outputs": [],
   "source": [
    "# Importar números aleatórios\n",
    "import random\n",
    "\n",
    "# Loop\n",
    "for loop in range(10):\n",
    "    # Gerando um número aleatório\n",
    "    numero = random.randint(10, 20)\n",
    "\n",
    "    # Inserir informação na minha tabela\n",
    "    cursor.execute(f'INSERT INTO Minha_Tabela VALUES (\"05/01/2011\", \"João Pedro\", {numero})')"
   ]
  },
  {
   "cell_type": "markdown",
   "metadata": {},
   "source": [
    "### **3.-Select Table** <br>\n",
    "A SELECT instrução é usada para selecionar dados de um banco de dados.\n",
    "\n",
    "SELECT * FROM table_name\n",
    "\n",
    "SELECT column1, column2, ... FROM table_name"
   ]
  },
  {
   "cell_type": "code",
   "execution_count": 8,
   "metadata": {},
   "outputs": [
    {
     "name": "stdout",
     "output_type": "stream",
     "text": [
      "[('01/01/2021', 'João', 22.0), ('05/01/2021', 'Pedro', 22.0), ('05/01/2011', 'João Pedro', 16.0), ('05/01/2011', 'João Pedro', 19.0), ('05/01/2011', 'João Pedro', 19.0), ('05/01/2011', 'João Pedro', 14.0), ('05/01/2011', 'João Pedro', 19.0), ('05/01/2011', 'João Pedro', 13.0), ('05/01/2011', 'João Pedro', 20.0), ('05/01/2011', 'João Pedro', 11.0), ('05/01/2011', 'João Pedro', 17.0), ('05/01/2011', 'João Pedro', 17.0)]\n"
     ]
    }
   ],
   "source": [
    "# Query de consulta - Todas as colunas\n",
    "consulta = cursor.execute('SELECT * FROM Minha_Tabela').fetchall()\n",
    "print(consulta)"
   ]
  },
  {
   "cell_type": "code",
   "execution_count": 9,
   "metadata": {},
   "outputs": [
    {
     "name": "stdout",
     "output_type": "stream",
     "text": [
      "('João', 22.0)\n",
      "('Pedro', 22.0)\n",
      "('João Pedro', 16.0)\n",
      "('João Pedro', 19.0)\n",
      "('João Pedro', 19.0)\n",
      "('João Pedro', 14.0)\n",
      "('João Pedro', 19.0)\n",
      "('João Pedro', 13.0)\n",
      "('João Pedro', 20.0)\n",
      "('João Pedro', 11.0)\n",
      "('João Pedro', 17.0)\n",
      "('João Pedro', 17.0)\n"
     ]
    }
   ],
   "source": [
    "# Query de consulta - Colunas específicas\n",
    "consulta = cursor.execute('SELECT Nome, Idade FROM Minha_Tabela').fetchall()\n",
    "\n",
    "#Loop\n",
    "for linha in consulta:\n",
    "    print(linha)"
   ]
  },
  {
   "cell_type": "markdown",
   "metadata": {},
   "source": [
    "### **4.-Where** <br>\n",
    "A WHERE cláusula é usada para filtrar registros. <p>\n",
    "*SELECT column1 FROM table_name WHERE condition;* <br> <br>\n",
    "**Operadores**\n",
    "1. '='\tIgual\n",
    "2. '>'\tMaior\t\n",
    "3. '<'\tMenor\t\n",
    "4. '>='\tMaior ou Igual\t\n",
    "5. '<='\tMenor ou Igual\t\n",
    "6. '<>'\tDiferente\t\n",
    "7. 'BETWEEN'\tEntre\t\n",
    "8. 'LIKE'\tProcurar por padrão\t\n",
    "9. 'IN'\tPara especificar vários valores possíveis para uma coluna"
   ]
  },
  {
   "cell_type": "code",
   "execution_count": 20,
   "metadata": {},
   "outputs": [
    {
     "name": "stdout",
     "output_type": "stream",
     "text": [
      "[('05/01/2021', 'Pedro', 22.0)]\n"
     ]
    }
   ],
   "source": [
    "# Query usando o Igual \"=\"\n",
    "consulta = cursor.execute(\n",
    "    '''\n",
    "    SELECT * FROM Minha_Tabela\n",
    "    WHERE Nome = 'Pedro'\n",
    "    '''\n",
    ").fetchall()\n",
    "\n",
    "print(consulta)"
   ]
  },
  {
   "cell_type": "code",
   "execution_count": 18,
   "metadata": {},
   "outputs": [
    {
     "name": "stdout",
     "output_type": "stream",
     "text": [
      "[('01/01/2021', 'João', 22.0), ('05/01/2021', 'Pedro', 22.0)]\n"
     ]
    }
   ],
   "source": [
    "# Query usando o Maior Que \">\"\n",
    "consulta = cursor.execute(\n",
    "    '''\n",
    "    SELECT * FROM Minha_Tabela\n",
    "    WHERE Idade > 21\n",
    "    '''\n",
    ").fetchall()\n",
    "\n",
    "print(consulta)"
   ]
  },
  {
   "cell_type": "markdown",
   "metadata": {},
   "source": [
    "### **5.-Between**"
   ]
  },
  {
   "cell_type": "code",
   "execution_count": 21,
   "metadata": {},
   "outputs": [
    {
     "name": "stdout",
     "output_type": "stream",
     "text": [
      "('05/01/2011', 'João Pedro', 16.0)\n",
      "('05/01/2011', 'João Pedro', 19.0)\n",
      "('05/01/2011', 'João Pedro', 19.0)\n",
      "('05/01/2011', 'João Pedro', 19.0)\n",
      "('05/01/2011', 'João Pedro', 20.0)\n",
      "('05/01/2011', 'João Pedro', 17.0)\n",
      "('05/01/2011', 'João Pedro', 17.0)\n"
     ]
    }
   ],
   "source": [
    "# Query usando o Between\n",
    "consulta = cursor.execute(\n",
    "    '''\n",
    "    SELECT * FROM Minha_Tabela\n",
    "    WHERE idade BETWEEN 15 AND 20\n",
    "    '''\n",
    ").fetchall()\n",
    "\n",
    "for linha in consulta:\n",
    "  print(linha)"
   ]
  }
 ],
 "metadata": {
  "kernelspec": {
   "display_name": "Python 3",
   "language": "python",
   "name": "python3"
  },
  "language_info": {
   "codemirror_mode": {
    "name": "ipython",
    "version": 3
   },
   "file_extension": ".py",
   "mimetype": "text/x-python",
   "name": "python",
   "nbconvert_exporter": "python",
   "pygments_lexer": "ipython3",
   "version": "3.12.6"
  }
 },
 "nbformat": 4,
 "nbformat_minor": 2
}
