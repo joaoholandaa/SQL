{
 "cells": [
  {
   "cell_type": "markdown",
   "metadata": {},
   "source": [
    "## **Python com SQLite3**"
   ]
  },
  {
   "cell_type": "markdown",
   "metadata": {},
   "source": [
    "### **O que é SQL?** <br>\n",
    "1. SQL significa Linguagem de Consulta Estruturada <br>\n",
    "2. SQL permite acessar e manipular bancos de dados\n",
    "3. SQL tornou-se um padrão do American National Standards Institute (ANSI) em 1986, e da International Organization for Standardization (ISO) em 1987."
   ]
  },
  {
   "cell_type": "markdown",
   "metadata": {},
   "source": [
    "### **O que é o SQLite?** <br>\n",
    "SQLite é um banco de dados SQL baseado em arquivo independente. O SQLite vem junto com o Python e pode ser usado em qualquer um dos seus aplicativos Python sem precisar instalar nenhum software adicional.\n"
   ]
  },
  {
   "cell_type": "code",
   "execution_count": 5,
   "metadata": {},
   "outputs": [],
   "source": [
    "# Biblioteca\n",
    "import sqlite3"
   ]
  },
  {
   "cell_type": "code",
   "execution_count": 6,
   "metadata": {},
   "outputs": [],
   "source": [
    "# Criar um banco de dados\n",
    "conexao = sqlite3.connect('database')"
   ]
  },
  {
   "cell_type": "code",
   "execution_count": 7,
   "metadata": {},
   "outputs": [],
   "source": [
    "# Apontar para o banco\n",
    "cursor = conexao.cursor()"
   ]
  },
  {
   "cell_type": "markdown",
   "metadata": {},
   "source": [
    "### **1.-Create Table** <br>\n",
    "CREATE TABLE table_name ( column1 datatype, column2 datatype, column3 datatype, .... )\n",
    "\n",
    "Os parâmetros de coluna especificam os nomes das colunas da tabela.\n",
    "\n",
    "O parâmetro datatype especifica o tipo de dados que a coluna pode conter (por exemplo, varchar, integer, date, etc.)."
   ]
  },
  {
   "cell_type": "code",
   "execution_count": 8,
   "metadata": {},
   "outputs": [],
   "source": [
    "# Criar uma tabela\n",
    "cursor.execute(\n",
    "    'CREATE TABLE Minha_Tabela (Data text, Nome text, Idade real)'\n",
    ")\n",
    "\n",
    "# Fazer um commit\n",
    "conexao.commit()"
   ]
  },
  {
   "cell_type": "markdown",
   "metadata": {},
   "source": [
    "### **2.-Insert Into** <br>\n",
    "A instrução INSERT INTO é usada para inserir novos registros em uma tabela.\n",
    "\n",
    "    1. Especifique os nomes das colunas e os valores a serem inseridos:\n",
    "\n",
    "INSERT INTO table_name (column1, column2, column3, ...)"
   ]
  },
  {
   "cell_type": "code",
   "execution_count": 9,
   "metadata": {},
   "outputs": [
    {
     "data": {
      "text/plain": [
       "<sqlite3.Cursor at 0x21b45803b40>"
      ]
     },
     "execution_count": 9,
     "metadata": {},
     "output_type": "execute_result"
    }
   ],
   "source": [
    "# Inserindo valores\n",
    "cursor.execute('INSERT INTO Minha_Tabela VALUES (\"01/01/2021\", \"João\", \"22\")')"
   ]
  },
  {
   "cell_type": "code",
   "execution_count": 10,
   "metadata": {},
   "outputs": [
    {
     "data": {
      "text/plain": [
       "<sqlite3.Cursor at 0x21b45803b40>"
      ]
     },
     "execution_count": 10,
     "metadata": {},
     "output_type": "execute_result"
    }
   ],
   "source": [
    "cursor.execute('INSERT INTO Minha_Tabela VALUES (\"05/01/2021\", \"Pedro\", \"22\")')"
   ]
  },
  {
   "cell_type": "code",
   "execution_count": 11,
   "metadata": {},
   "outputs": [],
   "source": [
    "# Importar números aleatórios\n",
    "import random\n",
    "\n",
    "# Loop\n",
    "for loop in range(10):\n",
    "    # Gerando um número aleatório\n",
    "    numero = random.randint(10, 20)\n",
    "\n",
    "    # Inserir informação na minha tabela\n",
    "    cursor.execute(f'INSERT INTO Minha_Tabela VALUES (\"05/01/2011\", \"João Pedro\", {numero})')"
   ]
  },
  {
   "cell_type": "markdown",
   "metadata": {},
   "source": [
    "### **3.-Select Table** <br>\n",
    "A SELECT instrução é usada para selecionar dados de um banco de dados.\n",
    "\n",
    "SELECT * FROM table_name\n",
    "\n",
    "SELECT column1, column2, ... FROM table_name"
   ]
  },
  {
   "cell_type": "code",
   "execution_count": 12,
   "metadata": {},
   "outputs": [
    {
     "name": "stdout",
     "output_type": "stream",
     "text": [
      "[('01/01/2021', 'João', 22.0), ('05/01/2021', 'Pedro', 22.0), ('05/01/2011', 'João Pedro', 19.0), ('05/01/2011', 'João Pedro', 10.0), ('05/01/2011', 'João Pedro', 18.0), ('05/01/2011', 'João Pedro', 14.0), ('05/01/2011', 'João Pedro', 11.0), ('05/01/2011', 'João Pedro', 19.0), ('05/01/2011', 'João Pedro', 18.0), ('05/01/2011', 'João Pedro', 14.0), ('05/01/2011', 'João Pedro', 16.0), ('05/01/2011', 'João Pedro', 19.0)]\n"
     ]
    }
   ],
   "source": [
    "# Query de consulta - Todas as colunas\n",
    "consulta = cursor.execute('SELECT * FROM Minha_Tabela').fetchall()\n",
    "print(consulta)"
   ]
  },
  {
   "cell_type": "code",
   "execution_count": 13,
   "metadata": {},
   "outputs": [
    {
     "name": "stdout",
     "output_type": "stream",
     "text": [
      "('João', 22.0)\n",
      "('Pedro', 22.0)\n",
      "('João Pedro', 19.0)\n",
      "('João Pedro', 10.0)\n",
      "('João Pedro', 18.0)\n",
      "('João Pedro', 14.0)\n",
      "('João Pedro', 11.0)\n",
      "('João Pedro', 19.0)\n",
      "('João Pedro', 18.0)\n",
      "('João Pedro', 14.0)\n",
      "('João Pedro', 16.0)\n",
      "('João Pedro', 19.0)\n"
     ]
    }
   ],
   "source": [
    "# Query de consulta - Colunas específicas\n",
    "consulta = cursor.execute('SELECT Nome, Idade FROM Minha_Tabela').fetchall()\n",
    "\n",
    "#Loop\n",
    "for linha in consulta:\n",
    "    print(linha)"
   ]
  }
 ],
 "metadata": {
  "kernelspec": {
   "display_name": "Python 3",
   "language": "python",
   "name": "python3"
  },
  "language_info": {
   "codemirror_mode": {
    "name": "ipython",
    "version": 3
   },
   "file_extension": ".py",
   "mimetype": "text/x-python",
   "name": "python",
   "nbconvert_exporter": "python",
   "pygments_lexer": "ipython3",
   "version": "3.12.6"
  }
 },
 "nbformat": 4,
 "nbformat_minor": 2
}
