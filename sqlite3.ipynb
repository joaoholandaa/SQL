{
 "cells": [
  {
   "cell_type": "markdown",
   "metadata": {},
   "source": [
    "## Python com SQLite3"
   ]
  },
  {
   "cell_type": "markdown",
   "metadata": {},
   "source": [
    "### **O que é SQL?** <br>\n",
    "1. SQL significa Linguagem de Consulta Estruturada <br>\n",
    "2. SQL permite acessar e manipular bancos de dados\n",
    "3. SQL tornou-se um padrão do American National Standards Institute (ANSI) em 1986, e da International Organization for Standardization (ISO) em 1987."
   ]
  },
  {
   "cell_type": "markdown",
   "metadata": {},
   "source": [
    "### **O que é o SQLite?** <br>\n",
    "SQLite é um banco de dados SQL baseado em arquivo independente. O SQLite vem junto com o Python e pode ser usado em qualquer um dos seus aplicativos Python sem precisar instalar nenhum software adicional.\n"
   ]
  },
  {
   "cell_type": "code",
   "execution_count": 2,
   "metadata": {},
   "outputs": [],
   "source": [
    "# Biblioteca\n",
    "import sqlite3"
   ]
  },
  {
   "cell_type": "code",
   "execution_count": 3,
   "metadata": {},
   "outputs": [],
   "source": [
    "# Criar um banco de dados\n",
    "conexao = sqlite3.connect('banco_dados')"
   ]
  },
  {
   "cell_type": "code",
   "execution_count": 4,
   "metadata": {},
   "outputs": [],
   "source": [
    "# Apontar para o banco\n",
    "cursor = conexao.cursor()"
   ]
  },
  {
   "cell_type": "markdown",
   "metadata": {},
   "source": [
    "### 1.-Create Table <br>\n",
    "CREATE TABLE table_name ( column1 datatype, column2 datatype, column3 datatype, .... )\n",
    "\n",
    "Os parâmetros de coluna especificam os nomes das colunas da tabela.\n",
    "\n",
    "O parâmetro datatype especifica o tipo de dados que a coluna pode conter (por exemplo, varchar, integer, date, etc.)."
   ]
  },
  {
   "cell_type": "code",
   "execution_count": 5,
   "metadata": {},
   "outputs": [],
   "source": [
    "# Criar uma tabela\n",
    "cursor.execute(\n",
    "    'CREATE TABLE Minha_Tabela (Data text, Nome text, Idade real)'\n",
    ")\n",
    "\n",
    "# Fazer um commit\n",
    "conexao.commit()"
   ]
  }
 ],
 "metadata": {
  "kernelspec": {
   "display_name": "Python 3",
   "language": "python",
   "name": "python3"
  },
  "language_info": {
   "codemirror_mode": {
    "name": "ipython",
    "version": 3
   },
   "file_extension": ".py",
   "mimetype": "text/x-python",
   "name": "python",
   "nbconvert_exporter": "python",
   "pygments_lexer": "ipython3",
   "version": "3.12.6"
  }
 },
 "nbformat": 4,
 "nbformat_minor": 2
}
